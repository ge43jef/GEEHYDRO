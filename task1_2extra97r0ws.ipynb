{
  "nbformat": 4,
  "nbformat_minor": 0,
  "metadata": {
    "colab": {
      "provenance": [],
      "authorship_tag": "ABX9TyMzf7s2rowq/jKYHJRsWfM6",
      "include_colab_link": true
    },
    "kernelspec": {
      "name": "python3",
      "display_name": "Python 3"
    },
    "language_info": {
      "name": "python"
    }
  },
  "cells": [
    {
      "cell_type": "markdown",
      "metadata": {
        "id": "view-in-github",
        "colab_type": "text"
      },
      "source": [
        "<a href=\"https://colab.research.google.com/github/ge43jef/GEEHYDRO/blob/perfectdatacodes/task1_2extra97r0ws.ipynb\" target=\"_parent\"><img src=\"https://colab.research.google.com/assets/colab-badge.svg\" alt=\"Open In Colab\"/></a>"
      ]
    },
    {
      "cell_type": "code",
      "source": [
        "import pandas as pd\n",
        "%matplotlib inline\n",
        "##plots be directly displayed below the code"
      ],
      "metadata": {
        "id": "fz3pCNGY8zSl"
      },
      "execution_count": 1,
      "outputs": []
    },
    {
      "cell_type": "code",
      "source": [
        "import numpy as np\n",
        "import matplotlib.pyplot as plt\n",
        "from sklearn.cluster import KMeans\n",
        "\n",
        "# Read the data from the text file\n",
        "var = pd.read_csv('/content/task197values.csv')\n",
        "var"
      ],
      "metadata": {
        "colab": {
          "base_uri": "https://localhost:8080/",
          "height": 661
        },
        "id": "0yPMfMD79giH",
        "outputId": "4e757894-e5e1-4b59-d737-9755c4e85919"
      },
      "execution_count": 4,
      "outputs": [
        {
          "output_type": "execute_result",
          "data": {
            "text/plain": [
              "               system:index  201001_temperature_2m  \\\n",
              "0    00000000000000000000_0             277.115203   \n",
              "1    00000000000000000000_1             281.511590   \n",
              "2    00000000000000000000_2             281.190857   \n",
              "3    00000000000000000000_3             280.646209   \n",
              "4    00000000000000000000_4             279.782090   \n",
              "..                      ...                    ...   \n",
              "91  00000000000000000000_91             282.099557   \n",
              "92  00000000000000000000_92             282.141255   \n",
              "93  00000000000000000000_93             282.165210   \n",
              "94  00000000000000000000_94             282.165210   \n",
              "95  00000000000000000000_95             282.179955   \n",
              "\n",
              "    201001_total_precipitation_sum  201002_temperature_2m  \\\n",
              "0                         0.264476             277.213594   \n",
              "1                         0.276352             282.501625   \n",
              "2                         0.287895             282.030468   \n",
              "3                         0.290189             281.352519   \n",
              "4                         0.280420             280.363877   \n",
              "..                             ...                    ...   \n",
              "91                        0.210923             283.595872   \n",
              "92                        0.210994             283.649589   \n",
              "93                        0.213074             283.659200   \n",
              "94                        0.213074             283.659200   \n",
              "95                        0.218685             283.579221   \n",
              "\n",
              "    201002_total_precipitation_sum  201003_temperature_2m  \\\n",
              "0                         0.163854             278.261991   \n",
              "1                         0.128091             283.561271   \n",
              "2                         0.142683             283.078350   \n",
              "3                         0.152121             282.397996   \n",
              "4                         0.155143             281.429742   \n",
              "..                             ...                    ...   \n",
              "91                        0.092239             284.811289   \n",
              "92                        0.095984             284.785857   \n",
              "93                        0.099971             284.741460   \n",
              "94                        0.099971             284.741460   \n",
              "95                        0.104363             284.617145   \n",
              "\n",
              "    201003_total_precipitation_sum  201004_temperature_2m  \\\n",
              "0                         0.169239             278.310289   \n",
              "1                         0.099855             284.388560   \n",
              "2                         0.113902             283.752794   \n",
              "3                         0.126874             282.882102   \n",
              "4                         0.139830             281.733203   \n",
              "..                             ...                    ...   \n",
              "91                        0.057196             285.861838   \n",
              "92                        0.059333             285.810514   \n",
              "93                        0.061915             285.732804   \n",
              "94                        0.061915             285.732804   \n",
              "95                        0.065446             285.625263   \n",
              "\n",
              "    201004_total_precipitation_sum  201005_temperature_2m  ...  \\\n",
              "0                         0.233403             282.090357  ...   \n",
              "1                         0.161121             287.833387  ...   \n",
              "2                         0.181628             287.128716  ...   \n",
              "3                         0.197505             286.216297  ...   \n",
              "4                         0.208290             285.096818  ...   \n",
              "..                             ...                    ...  ...   \n",
              "91                        0.076362             289.470615  ...   \n",
              "92                        0.081272             289.498594  ...   \n",
              "93                        0.087435             289.391776  ...   \n",
              "94                        0.087435             289.391776  ...   \n",
              "95                        0.095915             289.090110  ...   \n",
              "\n",
              "    201008_total_precipitation_sum  201009_temperature_2m  \\\n",
              "0                         0.002362             291.522381   \n",
              "1                         0.001014             295.863253   \n",
              "2                         0.001070             295.447967   \n",
              "3                         0.001205             294.795550   \n",
              "4                         0.001513             293.901814   \n",
              "..                             ...                    ...   \n",
              "91                        0.001555             295.276439   \n",
              "92                        0.002015             295.442767   \n",
              "93                        0.002161             295.552717   \n",
              "94                        0.002161             295.552717   \n",
              "95                        0.001700             295.589414   \n",
              "\n",
              "    201009_total_precipitation_sum  201010_temperature_2m  \\\n",
              "0                         0.002237             286.101813   \n",
              "1                         0.002042             290.845994   \n",
              "2                         0.001365             290.380509   \n",
              "3                         0.001042             289.676447   \n",
              "4                         0.001209             288.697257   \n",
              "..                             ...                    ...   \n",
              "91                        0.000290             291.360857   \n",
              "92                        0.000252             291.411644   \n",
              "93                        0.000212             291.350900   \n",
              "94                        0.000212             291.350900   \n",
              "95                        0.000171             291.148967   \n",
              "\n",
              "    201010_total_precipitation_sum  201011_temperature_2m  \\\n",
              "0                         0.195685             278.748204   \n",
              "1                         0.116669             283.364008   \n",
              "2                         0.126866             282.902026   \n",
              "3                         0.140401             282.275990   \n",
              "4                         0.159178             281.330859   \n",
              "..                             ...                    ...   \n",
              "91                        0.066236             284.924232   \n",
              "92                        0.072243             284.695103   \n",
              "93                        0.079877             284.409801   \n",
              "94                        0.079877             284.409801   \n",
              "95                        0.090533             284.109662   \n",
              "\n",
              "    201011_total_precipitation_sum  201012_temperature_2m  \\\n",
              "0                         0.218712             276.469184   \n",
              "1                         0.136109             281.960678   \n",
              "2                         0.153804             281.528801   \n",
              "3                         0.169628             280.879747   \n",
              "4                         0.183874             279.903431   \n",
              "..                             ...                    ...   \n",
              "91                        0.067803             283.021364   \n",
              "92                        0.073778             283.049170   \n",
              "93                        0.080396             283.052585   \n",
              "94                        0.080396             283.052585   \n",
              "95                        0.088189             282.995861   \n",
              "\n",
              "    201012_total_precipitation_sum                                    .geo  \n",
              "0                         0.415406  {\"type\":\"MultiPoint\",\"coordinates\":[]}  \n",
              "1                         0.301903  {\"type\":\"MultiPoint\",\"coordinates\":[]}  \n",
              "2                         0.336193  {\"type\":\"MultiPoint\",\"coordinates\":[]}  \n",
              "3                         0.361253  {\"type\":\"MultiPoint\",\"coordinates\":[]}  \n",
              "4                         0.374184  {\"type\":\"MultiPoint\",\"coordinates\":[]}  \n",
              "..                             ...                                     ...  \n",
              "91                        0.157005  {\"type\":\"MultiPoint\",\"coordinates\":[]}  \n",
              "92                        0.163936  {\"type\":\"MultiPoint\",\"coordinates\":[]}  \n",
              "93                        0.172966  {\"type\":\"MultiPoint\",\"coordinates\":[]}  \n",
              "94                        0.172966  {\"type\":\"MultiPoint\",\"coordinates\":[]}  \n",
              "95                        0.185917  {\"type\":\"MultiPoint\",\"coordinates\":[]}  \n",
              "\n",
              "[96 rows x 26 columns]"
            ],
            "text/html": [
              "\n",
              "  <div id=\"df-6e734bf0-23a3-4733-b3d6-24f571bae8f4\">\n",
              "    <div class=\"colab-df-container\">\n",
              "      <div>\n",
              "<style scoped>\n",
              "    .dataframe tbody tr th:only-of-type {\n",
              "        vertical-align: middle;\n",
              "    }\n",
              "\n",
              "    .dataframe tbody tr th {\n",
              "        vertical-align: top;\n",
              "    }\n",
              "\n",
              "    .dataframe thead th {\n",
              "        text-align: right;\n",
              "    }\n",
              "</style>\n",
              "<table border=\"1\" class=\"dataframe\">\n",
              "  <thead>\n",
              "    <tr style=\"text-align: right;\">\n",
              "      <th></th>\n",
              "      <th>system:index</th>\n",
              "      <th>201001_temperature_2m</th>\n",
              "      <th>201001_total_precipitation_sum</th>\n",
              "      <th>201002_temperature_2m</th>\n",
              "      <th>201002_total_precipitation_sum</th>\n",
              "      <th>201003_temperature_2m</th>\n",
              "      <th>201003_total_precipitation_sum</th>\n",
              "      <th>201004_temperature_2m</th>\n",
              "      <th>201004_total_precipitation_sum</th>\n",
              "      <th>201005_temperature_2m</th>\n",
              "      <th>...</th>\n",
              "      <th>201008_total_precipitation_sum</th>\n",
              "      <th>201009_temperature_2m</th>\n",
              "      <th>201009_total_precipitation_sum</th>\n",
              "      <th>201010_temperature_2m</th>\n",
              "      <th>201010_total_precipitation_sum</th>\n",
              "      <th>201011_temperature_2m</th>\n",
              "      <th>201011_total_precipitation_sum</th>\n",
              "      <th>201012_temperature_2m</th>\n",
              "      <th>201012_total_precipitation_sum</th>\n",
              "      <th>.geo</th>\n",
              "    </tr>\n",
              "  </thead>\n",
              "  <tbody>\n",
              "    <tr>\n",
              "      <th>0</th>\n",
              "      <td>00000000000000000000_0</td>\n",
              "      <td>277.115203</td>\n",
              "      <td>0.264476</td>\n",
              "      <td>277.213594</td>\n",
              "      <td>0.163854</td>\n",
              "      <td>278.261991</td>\n",
              "      <td>0.169239</td>\n",
              "      <td>278.310289</td>\n",
              "      <td>0.233403</td>\n",
              "      <td>282.090357</td>\n",
              "      <td>...</td>\n",
              "      <td>0.002362</td>\n",
              "      <td>291.522381</td>\n",
              "      <td>0.002237</td>\n",
              "      <td>286.101813</td>\n",
              "      <td>0.195685</td>\n",
              "      <td>278.748204</td>\n",
              "      <td>0.218712</td>\n",
              "      <td>276.469184</td>\n",
              "      <td>0.415406</td>\n",
              "      <td>{\"type\":\"MultiPoint\",\"coordinates\":[]}</td>\n",
              "    </tr>\n",
              "    <tr>\n",
              "      <th>1</th>\n",
              "      <td>00000000000000000000_1</td>\n",
              "      <td>281.511590</td>\n",
              "      <td>0.276352</td>\n",
              "      <td>282.501625</td>\n",
              "      <td>0.128091</td>\n",
              "      <td>283.561271</td>\n",
              "      <td>0.099855</td>\n",
              "      <td>284.388560</td>\n",
              "      <td>0.161121</td>\n",
              "      <td>287.833387</td>\n",
              "      <td>...</td>\n",
              "      <td>0.001014</td>\n",
              "      <td>295.863253</td>\n",
              "      <td>0.002042</td>\n",
              "      <td>290.845994</td>\n",
              "      <td>0.116669</td>\n",
              "      <td>283.364008</td>\n",
              "      <td>0.136109</td>\n",
              "      <td>281.960678</td>\n",
              "      <td>0.301903</td>\n",
              "      <td>{\"type\":\"MultiPoint\",\"coordinates\":[]}</td>\n",
              "    </tr>\n",
              "    <tr>\n",
              "      <th>2</th>\n",
              "      <td>00000000000000000000_2</td>\n",
              "      <td>281.190857</td>\n",
              "      <td>0.287895</td>\n",
              "      <td>282.030468</td>\n",
              "      <td>0.142683</td>\n",
              "      <td>283.078350</td>\n",
              "      <td>0.113902</td>\n",
              "      <td>283.752794</td>\n",
              "      <td>0.181628</td>\n",
              "      <td>287.128716</td>\n",
              "      <td>...</td>\n",
              "      <td>0.001070</td>\n",
              "      <td>295.447967</td>\n",
              "      <td>0.001365</td>\n",
              "      <td>290.380509</td>\n",
              "      <td>0.126866</td>\n",
              "      <td>282.902026</td>\n",
              "      <td>0.153804</td>\n",
              "      <td>281.528801</td>\n",
              "      <td>0.336193</td>\n",
              "      <td>{\"type\":\"MultiPoint\",\"coordinates\":[]}</td>\n",
              "    </tr>\n",
              "    <tr>\n",
              "      <th>3</th>\n",
              "      <td>00000000000000000000_3</td>\n",
              "      <td>280.646209</td>\n",
              "      <td>0.290189</td>\n",
              "      <td>281.352519</td>\n",
              "      <td>0.152121</td>\n",
              "      <td>282.397996</td>\n",
              "      <td>0.126874</td>\n",
              "      <td>282.882102</td>\n",
              "      <td>0.197505</td>\n",
              "      <td>286.216297</td>\n",
              "      <td>...</td>\n",
              "      <td>0.001205</td>\n",
              "      <td>294.795550</td>\n",
              "      <td>0.001042</td>\n",
              "      <td>289.676447</td>\n",
              "      <td>0.140401</td>\n",
              "      <td>282.275990</td>\n",
              "      <td>0.169628</td>\n",
              "      <td>280.879747</td>\n",
              "      <td>0.361253</td>\n",
              "      <td>{\"type\":\"MultiPoint\",\"coordinates\":[]}</td>\n",
              "    </tr>\n",
              "    <tr>\n",
              "      <th>4</th>\n",
              "      <td>00000000000000000000_4</td>\n",
              "      <td>279.782090</td>\n",
              "      <td>0.280420</td>\n",
              "      <td>280.363877</td>\n",
              "      <td>0.155143</td>\n",
              "      <td>281.429742</td>\n",
              "      <td>0.139830</td>\n",
              "      <td>281.733203</td>\n",
              "      <td>0.208290</td>\n",
              "      <td>285.096818</td>\n",
              "      <td>...</td>\n",
              "      <td>0.001513</td>\n",
              "      <td>293.901814</td>\n",
              "      <td>0.001209</td>\n",
              "      <td>288.697257</td>\n",
              "      <td>0.159178</td>\n",
              "      <td>281.330859</td>\n",
              "      <td>0.183874</td>\n",
              "      <td>279.903431</td>\n",
              "      <td>0.374184</td>\n",
              "      <td>{\"type\":\"MultiPoint\",\"coordinates\":[]}</td>\n",
              "    </tr>\n",
              "    <tr>\n",
              "      <th>...</th>\n",
              "      <td>...</td>\n",
              "      <td>...</td>\n",
              "      <td>...</td>\n",
              "      <td>...</td>\n",
              "      <td>...</td>\n",
              "      <td>...</td>\n",
              "      <td>...</td>\n",
              "      <td>...</td>\n",
              "      <td>...</td>\n",
              "      <td>...</td>\n",
              "      <td>...</td>\n",
              "      <td>...</td>\n",
              "      <td>...</td>\n",
              "      <td>...</td>\n",
              "      <td>...</td>\n",
              "      <td>...</td>\n",
              "      <td>...</td>\n",
              "      <td>...</td>\n",
              "      <td>...</td>\n",
              "      <td>...</td>\n",
              "      <td>...</td>\n",
              "    </tr>\n",
              "    <tr>\n",
              "      <th>91</th>\n",
              "      <td>00000000000000000000_91</td>\n",
              "      <td>282.099557</td>\n",
              "      <td>0.210923</td>\n",
              "      <td>283.595872</td>\n",
              "      <td>0.092239</td>\n",
              "      <td>284.811289</td>\n",
              "      <td>0.057196</td>\n",
              "      <td>285.861838</td>\n",
              "      <td>0.076362</td>\n",
              "      <td>289.470615</td>\n",
              "      <td>...</td>\n",
              "      <td>0.001555</td>\n",
              "      <td>295.276439</td>\n",
              "      <td>0.000290</td>\n",
              "      <td>291.360857</td>\n",
              "      <td>0.066236</td>\n",
              "      <td>284.924232</td>\n",
              "      <td>0.067803</td>\n",
              "      <td>283.021364</td>\n",
              "      <td>0.157005</td>\n",
              "      <td>{\"type\":\"MultiPoint\",\"coordinates\":[]}</td>\n",
              "    </tr>\n",
              "    <tr>\n",
              "      <th>92</th>\n",
              "      <td>00000000000000000000_92</td>\n",
              "      <td>282.141255</td>\n",
              "      <td>0.210994</td>\n",
              "      <td>283.649589</td>\n",
              "      <td>0.095984</td>\n",
              "      <td>284.785857</td>\n",
              "      <td>0.059333</td>\n",
              "      <td>285.810514</td>\n",
              "      <td>0.081272</td>\n",
              "      <td>289.498594</td>\n",
              "      <td>...</td>\n",
              "      <td>0.002015</td>\n",
              "      <td>295.442767</td>\n",
              "      <td>0.000252</td>\n",
              "      <td>291.411644</td>\n",
              "      <td>0.072243</td>\n",
              "      <td>284.695103</td>\n",
              "      <td>0.073778</td>\n",
              "      <td>283.049170</td>\n",
              "      <td>0.163936</td>\n",
              "      <td>{\"type\":\"MultiPoint\",\"coordinates\":[]}</td>\n",
              "    </tr>\n",
              "    <tr>\n",
              "      <th>93</th>\n",
              "      <td>00000000000000000000_93</td>\n",
              "      <td>282.165210</td>\n",
              "      <td>0.213074</td>\n",
              "      <td>283.659200</td>\n",
              "      <td>0.099971</td>\n",
              "      <td>284.741460</td>\n",
              "      <td>0.061915</td>\n",
              "      <td>285.732804</td>\n",
              "      <td>0.087435</td>\n",
              "      <td>289.391776</td>\n",
              "      <td>...</td>\n",
              "      <td>0.002161</td>\n",
              "      <td>295.552717</td>\n",
              "      <td>0.000212</td>\n",
              "      <td>291.350900</td>\n",
              "      <td>0.079877</td>\n",
              "      <td>284.409801</td>\n",
              "      <td>0.080396</td>\n",
              "      <td>283.052585</td>\n",
              "      <td>0.172966</td>\n",
              "      <td>{\"type\":\"MultiPoint\",\"coordinates\":[]}</td>\n",
              "    </tr>\n",
              "    <tr>\n",
              "      <th>94</th>\n",
              "      <td>00000000000000000000_94</td>\n",
              "      <td>282.165210</td>\n",
              "      <td>0.213074</td>\n",
              "      <td>283.659200</td>\n",
              "      <td>0.099971</td>\n",
              "      <td>284.741460</td>\n",
              "      <td>0.061915</td>\n",
              "      <td>285.732804</td>\n",
              "      <td>0.087435</td>\n",
              "      <td>289.391776</td>\n",
              "      <td>...</td>\n",
              "      <td>0.002161</td>\n",
              "      <td>295.552717</td>\n",
              "      <td>0.000212</td>\n",
              "      <td>291.350900</td>\n",
              "      <td>0.079877</td>\n",
              "      <td>284.409801</td>\n",
              "      <td>0.080396</td>\n",
              "      <td>283.052585</td>\n",
              "      <td>0.172966</td>\n",
              "      <td>{\"type\":\"MultiPoint\",\"coordinates\":[]}</td>\n",
              "    </tr>\n",
              "    <tr>\n",
              "      <th>95</th>\n",
              "      <td>00000000000000000000_95</td>\n",
              "      <td>282.179955</td>\n",
              "      <td>0.218685</td>\n",
              "      <td>283.579221</td>\n",
              "      <td>0.104363</td>\n",
              "      <td>284.617145</td>\n",
              "      <td>0.065446</td>\n",
              "      <td>285.625263</td>\n",
              "      <td>0.095915</td>\n",
              "      <td>289.090110</td>\n",
              "      <td>...</td>\n",
              "      <td>0.001700</td>\n",
              "      <td>295.589414</td>\n",
              "      <td>0.000171</td>\n",
              "      <td>291.148967</td>\n",
              "      <td>0.090533</td>\n",
              "      <td>284.109662</td>\n",
              "      <td>0.088189</td>\n",
              "      <td>282.995861</td>\n",
              "      <td>0.185917</td>\n",
              "      <td>{\"type\":\"MultiPoint\",\"coordinates\":[]}</td>\n",
              "    </tr>\n",
              "  </tbody>\n",
              "</table>\n",
              "<p>96 rows × 26 columns</p>\n",
              "</div>\n",
              "      <button class=\"colab-df-convert\" onclick=\"convertToInteractive('df-6e734bf0-23a3-4733-b3d6-24f571bae8f4')\"\n",
              "              title=\"Convert this dataframe to an interactive table.\"\n",
              "              style=\"display:none;\">\n",
              "        \n",
              "  <svg xmlns=\"http://www.w3.org/2000/svg\" height=\"24px\"viewBox=\"0 0 24 24\"\n",
              "       width=\"24px\">\n",
              "    <path d=\"M0 0h24v24H0V0z\" fill=\"none\"/>\n",
              "    <path d=\"M18.56 5.44l.94 2.06.94-2.06 2.06-.94-2.06-.94-.94-2.06-.94 2.06-2.06.94zm-11 1L8.5 8.5l.94-2.06 2.06-.94-2.06-.94L8.5 2.5l-.94 2.06-2.06.94zm10 10l.94 2.06.94-2.06 2.06-.94-2.06-.94-.94-2.06-.94 2.06-2.06.94z\"/><path d=\"M17.41 7.96l-1.37-1.37c-.4-.4-.92-.59-1.43-.59-.52 0-1.04.2-1.43.59L10.3 9.45l-7.72 7.72c-.78.78-.78 2.05 0 2.83L4 21.41c.39.39.9.59 1.41.59.51 0 1.02-.2 1.41-.59l7.78-7.78 2.81-2.81c.8-.78.8-2.07 0-2.86zM5.41 20L4 18.59l7.72-7.72 1.47 1.35L5.41 20z\"/>\n",
              "  </svg>\n",
              "      </button>\n",
              "      \n",
              "  <style>\n",
              "    .colab-df-container {\n",
              "      display:flex;\n",
              "      flex-wrap:wrap;\n",
              "      gap: 12px;\n",
              "    }\n",
              "\n",
              "    .colab-df-convert {\n",
              "      background-color: #E8F0FE;\n",
              "      border: none;\n",
              "      border-radius: 50%;\n",
              "      cursor: pointer;\n",
              "      display: none;\n",
              "      fill: #1967D2;\n",
              "      height: 32px;\n",
              "      padding: 0 0 0 0;\n",
              "      width: 32px;\n",
              "    }\n",
              "\n",
              "    .colab-df-convert:hover {\n",
              "      background-color: #E2EBFA;\n",
              "      box-shadow: 0px 1px 2px rgba(60, 64, 67, 0.3), 0px 1px 3px 1px rgba(60, 64, 67, 0.15);\n",
              "      fill: #174EA6;\n",
              "    }\n",
              "\n",
              "    [theme=dark] .colab-df-convert {\n",
              "      background-color: #3B4455;\n",
              "      fill: #D2E3FC;\n",
              "    }\n",
              "\n",
              "    [theme=dark] .colab-df-convert:hover {\n",
              "      background-color: #434B5C;\n",
              "      box-shadow: 0px 1px 3px 1px rgba(0, 0, 0, 0.15);\n",
              "      filter: drop-shadow(0px 1px 2px rgba(0, 0, 0, 0.3));\n",
              "      fill: #FFFFFF;\n",
              "    }\n",
              "  </style>\n",
              "\n",
              "      <script>\n",
              "        const buttonEl =\n",
              "          document.querySelector('#df-6e734bf0-23a3-4733-b3d6-24f571bae8f4 button.colab-df-convert');\n",
              "        buttonEl.style.display =\n",
              "          google.colab.kernel.accessAllowed ? 'block' : 'none';\n",
              "\n",
              "        async function convertToInteractive(key) {\n",
              "          const element = document.querySelector('#df-6e734bf0-23a3-4733-b3d6-24f571bae8f4');\n",
              "          const dataTable =\n",
              "            await google.colab.kernel.invokeFunction('convertToInteractive',\n",
              "                                                     [key], {});\n",
              "          if (!dataTable) return;\n",
              "\n",
              "          const docLinkHtml = 'Like what you see? Visit the ' +\n",
              "            '<a target=\"_blank\" href=https://colab.research.google.com/notebooks/data_table.ipynb>data table notebook</a>'\n",
              "            + ' to learn more about interactive tables.';\n",
              "          element.innerHTML = '';\n",
              "          dataTable['output_type'] = 'display_data';\n",
              "          await google.colab.output.renderOutput(dataTable, element);\n",
              "          const docLink = document.createElement('div');\n",
              "          docLink.innerHTML = docLinkHtml;\n",
              "          element.appendChild(docLink);\n",
              "        }\n",
              "      </script>\n",
              "    </div>\n",
              "  </div>\n",
              "  "
            ]
          },
          "metadata": {},
          "execution_count": 4
        }
      ]
    },
    {
      "cell_type": "code",
      "source": [
        "import pandas as pd\n",
        "\n",
        "# Read the CSV file into a DataFrame\n",
        "df = pd.read_csv('/content/task197values.csv')\n"
      ],
      "metadata": {
        "id": "jmGE85KJwcCc"
      },
      "execution_count": 5,
      "outputs": []
    },
    {
      "cell_type": "code",
      "source": [
        "# Select columns with specific ending patterns\n",
        "temperature_columns = [col for col in df.columns if col.endswith('temperature_2m')]\n",
        "precipitation_columns = [col for col in df.columns if col.endswith('total_precipitation_sum')]\n",
        "\n",
        "# Create new DataFrames with selected columns\n",
        "temperature_mean = df[temperature_columns].mean(axis=1)\n",
        "precipitation_mean = df[precipitation_columns].mean(axis=1)\n",
        "var =\n",
        "var"
      ],
      "metadata": {
        "colab": {
          "base_uri": "https://localhost:8080/"
        },
        "id": "UtMMz0jsw3AG",
        "outputId": "21587db6-4fc7-4173-f9fe-bfff28ce2a16"
      },
      "execution_count": 15,
      "outputs": [
        {
          "output_type": "execute_result",
          "data": {
            "text/plain": [
              "0     283.915335\n",
              "1     288.586030\n",
              "2     288.155790\n",
              "3     287.507739\n",
              "4     286.598111\n",
              "         ...    \n",
              "91    288.718885\n",
              "92    288.797993\n",
              "93    288.816003\n",
              "94    288.816003\n",
              "95    288.751331\n",
              "Length: 96, dtype: float64"
            ]
          },
          "metadata": {},
          "execution_count": 15
        }
      ]
    },
    {
      "cell_type": "code",
      "source": [
        "var = pd.DataFrame({'temperature_mean': temperature_mean, 'precipitation_mean': precipitation_mean})\n",
        "var"
      ],
      "metadata": {
        "colab": {
          "base_uri": "https://localhost:8080/",
          "height": 423
        },
        "id": "6yElgE271nQO",
        "outputId": "c698773f-a9ff-4eed-d75c-4754f208921d"
      },
      "execution_count": 18,
      "outputs": [
        {
          "output_type": "execute_result",
          "data": {
            "text/plain": [
              "    temperature_mean  precipitation_mean\n",
              "0         283.766286            0.149048\n",
              "1         288.479329            0.106701\n",
              "2         288.037966            0.117824\n",
              "3         287.381009            0.126730\n",
              "4         286.464947            0.133164\n",
              "..               ...                 ...\n",
              "91        288.656107            0.062778\n",
              "92        288.732602            0.065392\n",
              "93        288.747231            0.068772\n",
              "94        288.747231            0.068772\n",
              "95        288.677756            0.073575\n",
              "\n",
              "[96 rows x 2 columns]"
            ],
            "text/html": [
              "\n",
              "  <div id=\"df-633b8866-d651-44ce-b453-0113f23bf8a0\">\n",
              "    <div class=\"colab-df-container\">\n",
              "      <div>\n",
              "<style scoped>\n",
              "    .dataframe tbody tr th:only-of-type {\n",
              "        vertical-align: middle;\n",
              "    }\n",
              "\n",
              "    .dataframe tbody tr th {\n",
              "        vertical-align: top;\n",
              "    }\n",
              "\n",
              "    .dataframe thead th {\n",
              "        text-align: right;\n",
              "    }\n",
              "</style>\n",
              "<table border=\"1\" class=\"dataframe\">\n",
              "  <thead>\n",
              "    <tr style=\"text-align: right;\">\n",
              "      <th></th>\n",
              "      <th>temperature_mean</th>\n",
              "      <th>precipitation_mean</th>\n",
              "    </tr>\n",
              "  </thead>\n",
              "  <tbody>\n",
              "    <tr>\n",
              "      <th>0</th>\n",
              "      <td>283.766286</td>\n",
              "      <td>0.149048</td>\n",
              "    </tr>\n",
              "    <tr>\n",
              "      <th>1</th>\n",
              "      <td>288.479329</td>\n",
              "      <td>0.106701</td>\n",
              "    </tr>\n",
              "    <tr>\n",
              "      <th>2</th>\n",
              "      <td>288.037966</td>\n",
              "      <td>0.117824</td>\n",
              "    </tr>\n",
              "    <tr>\n",
              "      <th>3</th>\n",
              "      <td>287.381009</td>\n",
              "      <td>0.126730</td>\n",
              "    </tr>\n",
              "    <tr>\n",
              "      <th>4</th>\n",
              "      <td>286.464947</td>\n",
              "      <td>0.133164</td>\n",
              "    </tr>\n",
              "    <tr>\n",
              "      <th>...</th>\n",
              "      <td>...</td>\n",
              "      <td>...</td>\n",
              "    </tr>\n",
              "    <tr>\n",
              "      <th>91</th>\n",
              "      <td>288.656107</td>\n",
              "      <td>0.062778</td>\n",
              "    </tr>\n",
              "    <tr>\n",
              "      <th>92</th>\n",
              "      <td>288.732602</td>\n",
              "      <td>0.065392</td>\n",
              "    </tr>\n",
              "    <tr>\n",
              "      <th>93</th>\n",
              "      <td>288.747231</td>\n",
              "      <td>0.068772</td>\n",
              "    </tr>\n",
              "    <tr>\n",
              "      <th>94</th>\n",
              "      <td>288.747231</td>\n",
              "      <td>0.068772</td>\n",
              "    </tr>\n",
              "    <tr>\n",
              "      <th>95</th>\n",
              "      <td>288.677756</td>\n",
              "      <td>0.073575</td>\n",
              "    </tr>\n",
              "  </tbody>\n",
              "</table>\n",
              "<p>96 rows × 2 columns</p>\n",
              "</div>\n",
              "      <button class=\"colab-df-convert\" onclick=\"convertToInteractive('df-633b8866-d651-44ce-b453-0113f23bf8a0')\"\n",
              "              title=\"Convert this dataframe to an interactive table.\"\n",
              "              style=\"display:none;\">\n",
              "        \n",
              "  <svg xmlns=\"http://www.w3.org/2000/svg\" height=\"24px\"viewBox=\"0 0 24 24\"\n",
              "       width=\"24px\">\n",
              "    <path d=\"M0 0h24v24H0V0z\" fill=\"none\"/>\n",
              "    <path d=\"M18.56 5.44l.94 2.06.94-2.06 2.06-.94-2.06-.94-.94-2.06-.94 2.06-2.06.94zm-11 1L8.5 8.5l.94-2.06 2.06-.94-2.06-.94L8.5 2.5l-.94 2.06-2.06.94zm10 10l.94 2.06.94-2.06 2.06-.94-2.06-.94-.94-2.06-.94 2.06-2.06.94z\"/><path d=\"M17.41 7.96l-1.37-1.37c-.4-.4-.92-.59-1.43-.59-.52 0-1.04.2-1.43.59L10.3 9.45l-7.72 7.72c-.78.78-.78 2.05 0 2.83L4 21.41c.39.39.9.59 1.41.59.51 0 1.02-.2 1.41-.59l7.78-7.78 2.81-2.81c.8-.78.8-2.07 0-2.86zM5.41 20L4 18.59l7.72-7.72 1.47 1.35L5.41 20z\"/>\n",
              "  </svg>\n",
              "      </button>\n",
              "      \n",
              "  <style>\n",
              "    .colab-df-container {\n",
              "      display:flex;\n",
              "      flex-wrap:wrap;\n",
              "      gap: 12px;\n",
              "    }\n",
              "\n",
              "    .colab-df-convert {\n",
              "      background-color: #E8F0FE;\n",
              "      border: none;\n",
              "      border-radius: 50%;\n",
              "      cursor: pointer;\n",
              "      display: none;\n",
              "      fill: #1967D2;\n",
              "      height: 32px;\n",
              "      padding: 0 0 0 0;\n",
              "      width: 32px;\n",
              "    }\n",
              "\n",
              "    .colab-df-convert:hover {\n",
              "      background-color: #E2EBFA;\n",
              "      box-shadow: 0px 1px 2px rgba(60, 64, 67, 0.3), 0px 1px 3px 1px rgba(60, 64, 67, 0.15);\n",
              "      fill: #174EA6;\n",
              "    }\n",
              "\n",
              "    [theme=dark] .colab-df-convert {\n",
              "      background-color: #3B4455;\n",
              "      fill: #D2E3FC;\n",
              "    }\n",
              "\n",
              "    [theme=dark] .colab-df-convert:hover {\n",
              "      background-color: #434B5C;\n",
              "      box-shadow: 0px 1px 3px 1px rgba(0, 0, 0, 0.15);\n",
              "      filter: drop-shadow(0px 1px 2px rgba(0, 0, 0, 0.3));\n",
              "      fill: #FFFFFF;\n",
              "    }\n",
              "  </style>\n",
              "\n",
              "      <script>\n",
              "        const buttonEl =\n",
              "          document.querySelector('#df-633b8866-d651-44ce-b453-0113f23bf8a0 button.colab-df-convert');\n",
              "        buttonEl.style.display =\n",
              "          google.colab.kernel.accessAllowed ? 'block' : 'none';\n",
              "\n",
              "        async function convertToInteractive(key) {\n",
              "          const element = document.querySelector('#df-633b8866-d651-44ce-b453-0113f23bf8a0');\n",
              "          const dataTable =\n",
              "            await google.colab.kernel.invokeFunction('convertToInteractive',\n",
              "                                                     [key], {});\n",
              "          if (!dataTable) return;\n",
              "\n",
              "          const docLinkHtml = 'Like what you see? Visit the ' +\n",
              "            '<a target=\"_blank\" href=https://colab.research.google.com/notebooks/data_table.ipynb>data table notebook</a>'\n",
              "            + ' to learn more about interactive tables.';\n",
              "          element.innerHTML = '';\n",
              "          dataTable['output_type'] = 'display_data';\n",
              "          await google.colab.output.renderOutput(dataTable, element);\n",
              "          const docLink = document.createElement('div');\n",
              "          docLink.innerHTML = docLinkHtml;\n",
              "          element.appendChild(docLink);\n",
              "        }\n",
              "      </script>\n",
              "    </div>\n",
              "  </div>\n",
              "  "
            ]
          },
          "metadata": {},
          "execution_count": 18
        }
      ]
    },
    {
      "cell_type": "code",
      "source": [
        "from sklearn.preprocessing import MinMaxScaler\n",
        "import scipy.cluster.hierarchy as sch\n",
        "plt.figure(figsize=(5,3))\n",
        "# Scaling the variables have large diff.\n",
        "scaler = MinMaxScaler()\n",
        "scaled_data = scaler.fit_transform(var)\n",
        "\n",
        "## to find the optimum cluster\n",
        "dendogram = sch.dendrogram(sch.linkage(scaled_data, method =\"ward\"))\n",
        "plt.title(\"Dendogram\")\n",
        "plt.xlabel(\"Monthly ET\")\n",
        "plt.ylabel(\"Euclidean distance\")\n",
        "plt.show()\n",
        "##scaled_data\n",
        "##var"
      ],
      "metadata": {
        "colab": {
          "base_uri": "https://localhost:8080/",
          "height": 328
        },
        "id": "H9E20XJj-eCc",
        "outputId": "5b6fa913-b468-4200-9f2b-bdc656e225f1"
      },
      "execution_count": 23,
      "outputs": [
        {
          "output_type": "display_data",
          "data": {
            "text/plain": [
              "<Figure size 500x300 with 1 Axes>"
            ],
            "image/png": "[encoded data removed]"
          },
          "metadata": {}
        }
      ]
    },
    {
      "cell_type": "code",
      "source": [
        "from scipy.spatial.distance import euclidean\n",
        "from sklearn.cluster import AgglomerativeClustering\n",
        "cluster = AgglomerativeClustering(n_clusters=4, affinity='euclidean', linkage='ward')\n",
        "cl = cluster.fit_predict(scaled_data)\n",
        "cl\n"
      ],
      "metadata": {
        "id": "BUhOkU1LArGC"
      },
      "execution_count": null,
      "outputs": []
    },
    {
      "cell_type": "code",
      "source": [
        "from sklearn.metrics import silhouette_score\n",
        "silhouette_score(scaled_data,cl)"
      ],
      "metadata": {
        "colab": {
          "base_uri": "https://localhost:8080/"
        },
        "id": "i1WjevbBBTsJ",
        "outputId": "53137a61-2009-4efe-f16b-52aee69b17ed"
      },
      "execution_count": 53,
      "outputs": [
        {
          "output_type": "execute_result",
          "data": {
            "text/plain": [
              "0.5503047609416187"
            ]
          },
          "metadata": {},
          "execution_count": 53
        }
      ]
    },
    {
      "cell_type": "code",
      "source": [
        "# Get the unique cluster labels\n",
        "unique_cl = np.unique(cl)\n",
        "unique_cl"
      ],
      "metadata": {
        "id": "HiPqxNrcexeK",
        "colab": {
          "base_uri": "https://localhost:8080/"
        },
        "outputId": "a3939885-5f71-4b2a-f081-b5659116ae7a"
      },
      "execution_count": 46,
      "outputs": [
        {
          "output_type": "execute_result",
          "data": {
            "text/plain": [
              "array([0, 1, 2, 3])"
            ]
          },
          "metadata": {},
          "execution_count": 46
        }
      ]
    },
    {
      "cell_type": "code",
      "source": [
        "# Plot each cluster\n",
        "plt.figure(figsize=(5, 4))\n",
        "for label in unique_cl:\n",
        "    plt.scatter(scaled_data[cl == label, 0], scaled_data[cl == label, 1], s=20, label=f'Cluster {label}')\n",
        "\n",
        "plt.xlabel(\"Temprature\")\n",
        "plt.ylabel(\"Precipitation\")\n",
        "plt.title(\"Clusters of monthly ET data\")\n",
        "plt.legend()\n",
        "plt.show()"
      ],
      "metadata": {
        "colab": {
          "base_uri": "https://localhost:8080/",
          "height": 410
        },
        "id": "sVhhr4PhezPk",
        "outputId": "9986ab24-597d-453b-df62-e4be068b933b"
      },
      "execution_count": 67,
      "outputs": [
        {
          "output_type": "display_data",
          "data": {
            "text/plain": [
              "<Figure size 500x400 with 1 Axes>"
            ],
            "image/png": "[encoded data removed]"
          },
          "metadata": {}
        }
      ]
    },
    {
      "cell_type": "markdown",
      "source": [
        "**DBSCAN Clustering**"
      ],
      "metadata": {
        "id": "JMuPnX-NMb-v"
      }
    },
    {
      "cell_type": "code",
      "source": [
        "from sklearn.neighbors import NearestNeighbors\n",
        "neigh = NearestNeighbors(n_neighbors=3)\n",
        "nbrs = neigh.fit(scaled_data)\n",
        "dist, indices = nbrs.kneighbors(scaled_data)"
      ],
      "metadata": {
        "id": "VYtGXEuiHMDb"
      },
      "execution_count": 175,
      "outputs": []
    },
    {
      "cell_type": "code",
      "source": [
        "dist = np.sort(dist, axis=0)\n",
        "dist = dist[:,1]\n",
        "plt.plot(dist)"
      ],
      "metadata": {
        "colab": {
          "base_uri": "https://localhost:8080/",
          "height": 447
        },
        "id": "ucM1eYS_HxvZ",
        "outputId": "34ecf2ea-aacd-40a9-ec65-23b3d737fe5c"
      },
      "execution_count": 176,
      "outputs": [
        {
          "output_type": "execute_result",
          "data": {
            "text/plain": [
              "[<matplotlib.lines.Line2D at 0x7fa11d6af7c0>]"
            ]
          },
          "metadata": {},
          "execution_count": 176
        },
        {
          "output_type": "display_data",
          "data": {
            "text/plain": [
              "<Figure size 640x480 with 1 Axes>"
            ],
            "image/png": "[encoded data removed]"
          },
          "metadata": {}
        }
      ]
    },
    {
      "cell_type": "code",
      "source": [
        "from sklearn.cluster import DBSCAN\n",
        "dbscancluster =DBSCAN(eps=0.085, min_samples=3)\n",
        "dbscancluster.fit(scaled_data)\n",
        "cluster = dbscancluster.labels_\n",
        "cluster"
      ],
      "metadata": {
        "colab": {
          "base_uri": "https://localhost:8080/"
        },
        "id": "a8DsdFGZIJ0D",
        "outputId": "c841ea36-82e2-48ab-b0f1-65a01a6e82e3"
      },
      "execution_count": 207,
      "outputs": [
        {
          "output_type": "execute_result",
          "data": {
            "text/plain": [
              "array([-1,  0,  1,  1,  1,  2, -1,  0,  0,  0,  0,  0,  0,  0,  0,  1,  1,\n",
              "        1,  2,  0,  0,  0,  0,  0,  0,  0,  0,  0,  0,  0,  1,  1,  2, -1,\n",
              "        0,  0,  0,  0,  0,  0,  0,  0,  0,  0,  0,  1,  1,  2, -1,  0,  0,\n",
              "        0,  0,  0,  0,  0,  0,  0,  0,  1,  1,  1,  2,  0,  0,  0,  0,  0,\n",
              "        0,  0,  0,  0,  0,  1,  1,  1,  2,  0,  0,  0,  0,  0,  0,  0,  0,\n",
              "        0,  0,  0,  1,  1,  0,  0,  0,  0,  0,  0])"
            ]
          },
          "metadata": {},
          "execution_count": 207
        }
      ]
    },
    {
      "cell_type": "code",
      "source": [
        "silhouette_score(scaled_data, cluster)"
      ],
      "metadata": {
        "colab": {
          "base_uri": "https://localhost:8080/"
        },
        "id": "-omSLrZ8JF2B",
        "outputId": "3a7db58a-f6f0-4a30-fbd1-9cbf929b815d"
      },
      "execution_count": 208,
      "outputs": [
        {
          "output_type": "execute_result",
          "data": {
            "text/plain": [
              "0.5611990579955044"
            ]
          },
          "metadata": {},
          "execution_count": 208
        }
      ]
    },
    {
      "cell_type": "code",
      "source": [
        "unique_cl = np.unique(cluster)\n",
        "unique_cl"
      ],
      "metadata": {
        "colab": {
          "base_uri": "https://localhost:8080/"
        },
        "id": "bQwswexxNhxe",
        "outputId": "ab8e7522-1dba-4bdc-a7e5-f71aa8341264"
      },
      "execution_count": 209,
      "outputs": [
        {
          "output_type": "execute_result",
          "data": {
            "text/plain": [
              "array([-1,  0,  1,  2])"
            ]
          },
          "metadata": {},
          "execution_count": 209
        }
      ]
    },
    {
      "cell_type": "code",
      "source": [
        "# Plot the clusters\n",
        "plt.scatter(scaled_data[:, 0], scaled_data[:,1], c = cluster, cmap= \"plasma\") # plotting the clusters\n",
        "plt.xlabel(\"Temprature\") # X-axis label\n",
        "plt.ylabel(\"Precipitation\") # Y-axis label\n",
        "plt.legend()\n",
        "plt.show() # showing the plot\n"
      ],
      "metadata": {
        "colab": {
          "base_uri": "https://localhost:8080/",
          "height": 486
        },
        "id": "4X2WrtnQGsLF",
        "outputId": "506009cf-1e8b-4162-af4f-10a34e40d0cf"
      },
      "execution_count": 210,
      "outputs": [
        {
          "output_type": "stream",
          "name": "stderr",
          "text": [
            "WARNING:matplotlib.legend:No artists with labels found to put in legend.  Note that artists whose label start with an underscore are ignored when legend() is called with no argument.\n"
          ]
        },
        {
          "output_type": "display_data",
          "data": {
            "text/plain": [
              "<Figure size 640x480 with 1 Axes>"
            ],
            "image/png": "[encoded data removed]"
          },
          "metadata": {}
        }
      ]
    }
  ]
}