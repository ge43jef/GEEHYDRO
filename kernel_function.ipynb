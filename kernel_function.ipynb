{
  "cells": [
    {
      "cell_type": "markdown",
      "metadata": {
        "id": "view-in-github",
        "colab_type": "text"
      },
      "source": [
        "<a href=\"https://colab.research.google.com/github/ge43jef/GEEHYDRO/blob/block3/kernel_function.ipynb\" target=\"_parent\"><img src=\"https://colab.research.google.com/assets/colab-badge.svg\" alt=\"Open In Colab\"/></a>"
      ]
    },
    {
      "cell_type": "markdown",
      "id": "fed5b0b5",
      "metadata": {
        "id": "fed5b0b5"
      },
      "source": [
        "# Scikit-Learn Regression 2\n",
        "[Support Vector Regression](https://scikit-learn.org/stable/modules/generated/sklearn.svm.SVR.html#sklearn.svm.SVR)"
      ]
    },
    {
      "cell_type": "markdown",
      "id": "267897a9",
      "metadata": {
        "id": "267897a9"
      },
      "source": [
        "In this lab , we will use FLUXNET Dataset, utilize scikit-learn to implement Support Vector Regression"
      ]
    },
    {
      "cell_type": "code",
      "execution_count": null,
      "id": "29944e56",
      "metadata": {
        "id": "29944e56"
      },
      "outputs": [],
      "source": [
        "import numpy as np\n",
        "import pandas as pd\n",
        "import matplotlib.pyplot as plt\n",
        "from sklearn.preprocessing import PolynomialFeatures\n",
        "from sklearn.model_selection import KFold\n",
        "from sklearn.model_selection import train_test_split\n",
        "from sklearn.svm import SVR\n",
        "from sklearn.metrics import r2_score\n",
        "from sklearn.metrics import mean_squared_error\n",
        "from sklearn.model_selection import learning_curve"
      ]
    },
    {
      "cell_type": "code",
      "execution_count": null,
      "id": "47aba212",
      "metadata": {
        "id": "47aba212"
      },
      "outputs": [],
      "source": [
        "data = pd.read_csv('FLX_US-Ne1_FLUXNET2015_SUBSET_DD_2001-2013_1-4.csv' , delimiter=\",\", skipinitialspace=True,  parse_dates=True)\n",
        "\n",
        "meteo = pd.DataFrame(\n",
        "            {\"sw\": data.SW_IN_F, \"lw\": data.LW_IN_F, \"tmp\": data.TA_F,\n",
        "             \"pre\": data.PA_F, \"u10\": data.WS_F,  \"vpd\": data.VPD_F , \"lh\": data.LE_CORR})\n",
        "\n",
        "data_all = np.array(meteo)\n",
        "X = data_all[ : , 0:6]\n",
        "y = data_all[ : , 6]"
      ]
    },
    {
      "cell_type": "code",
      "execution_count": null,
      "id": "77e50555",
      "metadata": {
        "id": "77e50555"
      },
      "outputs": [],
      "source": [
        "kf = KFold(n_splits=5)\n",
        "for train, test in kf.split(X):\n",
        "    X_train, X_test, y_train, y_test = X[train], X[test], y[train], y[test]\n",
        "    kernel_model = SVR(C=1.0, epsilon=0.2)\n",
        "    kernel_model.fit(X_train , y_train)\n",
        "    y_pred = kernel_model.predict(X_test)"
      ]
    },
    {
      "cell_type": "code",
      "execution_count": null,
      "id": "2a01e50a",
      "metadata": {
        "id": "2a01e50a"
      },
      "outputs": [],
      "source": [
        "y_pred = kernel_model.predict(X_test)\n",
        "# plot the data\n",
        "# Plot the data points\n",
        "fig = plt.figure()\n",
        "fig,ax=plt.subplots(2, 1, figsize=(6, 12), sharey=True)\n",
        "ax[0].plot( y_test, marker='x', c='r',label='True Value')\n",
        "ax[0].plot( y_pred, c='b',label='Our Prediction')\n",
        "ax[0].set(xlabel=\"time (day)\", ylabel=\"evaporation rate (mm/d)\")\n",
        "ax[1].scatter( y_test , y_pred, c='b')\n",
        "z = np.polyfit(y_test , y_pred, 1)\n",
        "y_hat = np.poly1d(z)(y_pred)\n",
        "plt.plot(y_pred, y_hat, \"r--\", lw=2)\n",
        "text = f\"$y={z[0]:0.3f}\\;x{z[1]:+0.3f}$\\n$R^2 = {r2_score(y_test, y_hat):0.3f}$\\n\" \\\n",
        "                   f\"$RMSE = {mean_squared_error(y_test, y_hat, squared=False):0.3f} $ \"\n",
        "plt.gca().text(0.05, 0.95, text, transform=plt.gca().transAxes,\n",
        "                           fontsize=14, verticalalignment='top')\n",
        "plt.ylabel('Predict Value')\n",
        "# Set the x-axis label\n",
        "plt.xlabel('True Value')\n",
        "ax[0].legend()\n",
        "\n",
        "print(\"coefficient of determination R^2 =\",kernel_model.score(X_test , y_test.reshape(-1, 1)))"
      ]
    },
    {
      "cell_type": "markdown",
      "id": "6be2bcab",
      "metadata": {
        "id": "6be2bcab"
      },
      "source": [
        "### Now let's try different kernel functions"
      ]
    },
    {
      "cell_type": "markdown",
      "id": "8078c05f",
      "metadata": {
        "id": "8078c05f"
      },
      "source": [
        "#### Linear kernel function"
      ]
    },
    {
      "cell_type": "code",
      "execution_count": null,
      "id": "e71d9f0c",
      "metadata": {
        "id": "e71d9f0c"
      },
      "outputs": [],
      "source": [
        "kf = KFold(n_splits=5)\n",
        "for train, test in kf.split(X):\n",
        "    X_train, X_test, y_train, y_test = X[train], X[test], y[train], y[test]\n",
        "    kernel_model = SVR( kernel = 'linear')\n",
        "    kernel_model.fit(X_train , y_train)\n",
        "    y_pred = kernel_model.predict(X_test)\n",
        "\n",
        "y_pred = kernel_model.predict(X_test)\n",
        "# plot the data\n",
        "# Plot the data points\n",
        "fig = plt.figure()\n",
        "fig,ax=plt.subplots(2, 1, figsize=(6, 12), sharey=True)\n",
        "ax[0].plot( y_test, marker='x', c='r',label='True Value')\n",
        "ax[0].plot( y_pred, c='b',label='Our Prediction')\n",
        "ax[0].set(xlabel=\"time (day)\", ylabel=\"evaporation rate (mm/d)\")\n",
        "ax[1].scatter( y_test , y_pred, c='b')\n",
        "z = np.polyfit(y_test , y_pred, 1)\n",
        "y_hat = np.poly1d(z)(y_pred)\n",
        "plt.plot(y_pred, y_hat, \"r--\", lw=2)\n",
        "text = f\"$y={z[0]:0.3f}\\;x{z[1]:+0.3f}$\\n$R^2 = {r2_score(y_test, y_hat):0.3f}$\\n\" \\\n",
        "                   f\"$RMSE = {mean_squared_error(y_test, y_hat, squared=False):0.3f} $ \"\n",
        "plt.gca().text(0.05, 0.95, text, transform=plt.gca().transAxes,\n",
        "                           fontsize=14, verticalalignment='top')\n",
        "plt.ylabel('Predict Value')\n",
        "# Set the x-axis label\n",
        "plt.xlabel('True Value')\n",
        "ax[0].legend()\n",
        "\n",
        "print(\"coefficient of determination R^2 =\",kernel_model.score(X_test , y_test.reshape(-1, 1)))"
      ]
    },
    {
      "cell_type": "markdown",
      "id": "cc5c2061",
      "metadata": {
        "id": "cc5c2061"
      },
      "source": [
        "#### Poly kernel function"
      ]
    },
    {
      "cell_type": "code",
      "execution_count": null,
      "id": "81085fc2",
      "metadata": {
        "id": "81085fc2"
      },
      "outputs": [],
      "source": [
        "kf = KFold(n_splits=5)\n",
        "for train, test in kf.split(X):\n",
        "    X_train, X_test, y_train, y_test = X[train], X[test], y[train], y[test]\n",
        "    kernel_model = SVR( kernel = 'poly')\n",
        "    kernel_model.fit(X_train , y_train)\n",
        "    y_pred = kernel_model.predict(X_test)\n",
        "\n",
        "y_pred = kernel_model.predict(X_test)\n",
        "# plot the data\n",
        "# Plot the data points\n",
        "fig = plt.figure()\n",
        "fig,ax=plt.subplots(2, 1, figsize=(6, 12), sharey=True)\n",
        "ax[0].plot( y_test, marker='x', c='r',label='True Value')\n",
        "ax[0].plot( y_pred, c='b',label='Our Prediction')\n",
        "ax[0].set(xlabel=\"time (day)\", ylabel=\"evaporation rate (mm/d)\")\n",
        "ax[1].scatter( y_test , y_pred, c='b')\n",
        "z = np.polyfit(y_test , y_pred, 1)\n",
        "y_hat = np.poly1d(z)(y_pred)\n",
        "plt.plot(y_pred, y_hat, \"r--\", lw=2)\n",
        "text = f\"$y={z[0]:0.3f}\\;x{z[1]:+0.3f}$\\n$R^2 = {r2_score(y_test, y_hat):0.3f}$\\n\" \\\n",
        "                   f\"$RMSE = {mean_squared_error(y_test, y_hat, squared=False):0.3f} $ \"\n",
        "plt.gca().text(0.05, 0.95, text, transform=plt.gca().transAxes,\n",
        "                           fontsize=14, verticalalignment='top')\n",
        "plt.ylabel('Predict Value')\n",
        "# Set the x-axis label\n",
        "plt.xlabel('True Value')\n",
        "ax[0].legend()\n",
        "\n",
        "print(\"coefficient of determination R^2 =\",kernel_model.score(X_test , y_test.reshape(-1, 1)))"
      ]
    },
    {
      "cell_type": "markdown",
      "id": "e226886e",
      "metadata": {
        "id": "e226886e"
      },
      "source": [
        "## Please try leaning learning curve here according to jupyter notebook: regression_linear_polynomial.ipyn"
      ]
    },
    {
      "cell_type": "code",
      "execution_count": null,
      "id": "fd3b0485",
      "metadata": {
        "id": "fd3b0485"
      },
      "outputs": [],
      "source": []
    }
  ],
  "metadata": {
    "kernelspec": {
      "display_name": "Python 3 (ipykernel)",
      "language": "python",
      "name": "python3"
    },
    "language_info": {
      "codemirror_mode": {
        "name": "ipython",
        "version": 3
      },
      "file_extension": ".py",
      "mimetype": "text/x-python",
      "name": "python",
      "nbconvert_exporter": "python",
      "pygments_lexer": "ipython3",
      "version": "3.8.13"
    },
    "colab": {
      "provenance": [],
      "include_colab_link": true
    }
  },
  "nbformat": 4,
  "nbformat_minor": 5
}