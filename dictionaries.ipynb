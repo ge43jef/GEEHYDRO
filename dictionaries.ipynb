{
  "cells": [
    {
      "cell_type": "markdown",
      "metadata": {
        "id": "view-in-github",
        "colab_type": "text"
      },
      "source": [
        "<a href=\"https://colab.research.google.com/github/ge43jef/GEEHYDRO/blob/basic/dictionaries.ipynb\" target=\"_parent\"><img src=\"https://colab.research.google.com/assets/colab-badge.svg\" alt=\"Open In Colab\"/></a>"
      ]
    },
    {
      "cell_type": "code",
      "execution_count": null,
      "id": "bd162080",
      "metadata": {
        "id": "bd162080"
      },
      "outputs": [],
      "source": [
        "# Dictionaries"
      ]
    },
    {
      "cell_type": "code",
      "execution_count": null,
      "id": "4067c7fe",
      "metadata": {
        "id": "4067c7fe"
      },
      "outputs": [],
      "source": [
        "monthConversions = {\n",
        "\n",
        "    \"Jan\" : \"Janurary\" ,\n",
        "    \"Feb\" : \"February\" ,\n",
        "    \"Mar\" : \"March\" ,\n",
        "    \"Apr\" : \"April\" ,\n",
        "    \"May\" : \"May\" ,\n",
        "    \"Jun\" : \"June\" ,\n",
        "    \"Jul\" : \"July\" ,\n",
        "    \"Aug\" : \"August\" ,\n",
        "    \"Sep\" : \"September\" ,\n",
        "    \"Oct\" : \"October\" ,\n",
        "    \"Nov\" : \"November\" ,\n",
        "    \"Dec\" : \"December\",\n",
        "\n",
        "}"
      ]
    },
    {
      "cell_type": "code",
      "execution_count": null,
      "id": "512fc7ed",
      "metadata": {
        "id": "512fc7ed"
      },
      "outputs": [],
      "source": [
        "print(monthConversions[\"Nov\"])"
      ]
    },
    {
      "cell_type": "code",
      "execution_count": null,
      "id": "acd893e3",
      "metadata": {
        "id": "acd893e3"
      },
      "outputs": [],
      "source": [
        "print(monthConversions.get(\"Nov\"))"
      ]
    },
    {
      "cell_type": "code",
      "execution_count": null,
      "id": "d27c431d",
      "metadata": {
        "id": "d27c431d"
      },
      "outputs": [],
      "source": [
        "print(monthConversions.get(\"Luv\" , \"Not a valid key\"))"
      ]
    }
  ],
  "metadata": {
    "kernelspec": {
      "display_name": "Python 3 (ipykernel)",
      "language": "python",
      "name": "python3"
    },
    "language_info": {
      "codemirror_mode": {
        "name": "ipython",
        "version": 3
      },
      "file_extension": ".py",
      "mimetype": "text/x-python",
      "name": "python",
      "nbconvert_exporter": "python",
      "pygments_lexer": "ipython3",
      "version": "3.8.10"
    },
    "colab": {
      "provenance": [],
      "include_colab_link": true
    }
  },
  "nbformat": 4,
  "nbformat_minor": 5
}