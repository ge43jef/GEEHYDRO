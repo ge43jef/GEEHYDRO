{
  "cells": [
    {
      "cell_type": "markdown",
      "metadata": {
        "id": "view-in-github",
        "colab_type": "text"
      },
      "source": [
        "<a href=\"https://colab.research.google.com/github/ge43jef/GEEHYDRO/blob/basic/tuples.ipynb\" target=\"_parent\"><img src=\"https://colab.research.google.com/assets/colab-badge.svg\" alt=\"Open In Colab\"/></a>"
      ]
    },
    {
      "cell_type": "code",
      "execution_count": null,
      "id": "3c1c2ebe",
      "metadata": {
        "id": "3c1c2ebe"
      },
      "outputs": [],
      "source": [
        "# Tuples"
      ]
    },
    {
      "cell_type": "code",
      "execution_count": null,
      "id": "4c434c99",
      "metadata": {
        "id": "4c434c99"
      },
      "outputs": [],
      "source": [
        "coordinates = (4 , 5) # Tuple CAN NOT be changed after created\n",
        "print(coordinates[1])"
      ]
    },
    {
      "cell_type": "code",
      "execution_count": null,
      "id": "97895dbe",
      "metadata": {
        "id": "97895dbe"
      },
      "outputs": [],
      "source": [
        "coordinates = (4 , 5) # Tuple CAN NOT be changed after created\n",
        "coordinates[1] = 10\n",
        "print(coordinates[1])"
      ]
    },
    {
      "cell_type": "code",
      "execution_count": null,
      "id": "f4d206da",
      "metadata": {
        "id": "f4d206da"
      },
      "outputs": [],
      "source": [
        "coordinates = [(4 , 5) , (6 , 7) , (80 , 34)]"
      ]
    }
  ],
  "metadata": {
    "kernelspec": {
      "display_name": "Python 3 (ipykernel)",
      "language": "python",
      "name": "python3"
    },
    "language_info": {
      "codemirror_mode": {
        "name": "ipython",
        "version": 3
      },
      "file_extension": ".py",
      "mimetype": "text/x-python",
      "name": "python",
      "nbconvert_exporter": "python",
      "pygments_lexer": "ipython3",
      "version": "3.8.10"
    },
    "colab": {
      "provenance": [],
      "include_colab_link": true
    }
  },
  "nbformat": 4,
  "nbformat_minor": 5
}