{
  "cells": [
    {
      "cell_type": "markdown",
      "metadata": {
        "id": "view-in-github",
        "colab_type": "text"
      },
      "source": [
        "<a href=\"https://colab.research.google.com/github/ge43jef/GEEHYDRO/blob/basic/Function.ipynb\" target=\"_parent\"><img src=\"https://colab.research.google.com/assets/colab-badge.svg\" alt=\"Open In Colab\"/></a>"
      ]
    },
    {
      "cell_type": "code",
      "execution_count": null,
      "id": "e5513689",
      "metadata": {
        "id": "e5513689"
      },
      "outputs": [],
      "source": [
        "# Functions"
      ]
    },
    {
      "cell_type": "code",
      "execution_count": null,
      "id": "776e5a2d",
      "metadata": {
        "id": "776e5a2d"
      },
      "outputs": [],
      "source": [
        "def sayhi(): # def: key word for a function\n",
        "#Tab#\n",
        "    print(\"Hello User\")"
      ]
    },
    {
      "cell_type": "code",
      "execution_count": null,
      "id": "75679e1f",
      "metadata": {
        "id": "75679e1f"
      },
      "outputs": [],
      "source": [
        "sayhi() # Call the function"
      ]
    },
    {
      "cell_type": "code",
      "execution_count": null,
      "id": "8136a5c0",
      "metadata": {
        "id": "8136a5c0"
      },
      "outputs": [],
      "source": [
        "print(\"Top\")\n",
        "sayhi()\n",
        "print(\"bottom\")"
      ]
    },
    {
      "cell_type": "code",
      "execution_count": null,
      "id": "139aefaf",
      "metadata": {
        "id": "139aefaf"
      },
      "outputs": [],
      "source": [
        "def sayhi(name):\n",
        "    print(\"Hello \" + name)\n",
        "\n",
        "sayhi(\"Mike\")\n",
        "sayhi(\"Steve\")"
      ]
    },
    {
      "cell_type": "code",
      "execution_count": null,
      "id": "5f6c3a79",
      "metadata": {
        "id": "5f6c3a79"
      },
      "outputs": [],
      "source": [
        "def sayhi(name , age): # Parameter\n",
        "    print(\"Hello \" + name + \", you are \" + age)\n",
        "\n",
        "sayhi(\"Mike\" , \"35\")\n",
        "sayhi(\"Steve\" , \"70\")"
      ]
    },
    {
      "cell_type": "code",
      "execution_count": null,
      "id": "6bdda587",
      "metadata": {
        "id": "6bdda587"
      },
      "outputs": [],
      "source": [
        "def sayhi(name , age):\n",
        "    print(\"Hello \" + name + \", you are \" + str(age))\n",
        "\n",
        "sayhi(\"Mike\" , 35)\n",
        "sayhi(\"Steve\" , 70)"
      ]
    },
    {
      "cell_type": "code",
      "execution_count": null,
      "id": "ba41cfad",
      "metadata": {
        "id": "ba41cfad"
      },
      "outputs": [],
      "source": [
        "# Return Statement"
      ]
    },
    {
      "cell_type": "code",
      "execution_count": null,
      "id": "813a7dc7",
      "metadata": {
        "id": "813a7dc7"
      },
      "outputs": [],
      "source": [
        "def cube(num):\n",
        "    num * num * num"
      ]
    },
    {
      "cell_type": "code",
      "execution_count": null,
      "id": "e0cca9ac",
      "metadata": {
        "id": "e0cca9ac"
      },
      "outputs": [],
      "source": [
        "cube(3)\n",
        "print(cube(3))"
      ]
    },
    {
      "cell_type": "code",
      "execution_count": null,
      "id": "854c80e0",
      "metadata": {
        "id": "854c80e0"
      },
      "outputs": [],
      "source": [
        "def cube(num):\n",
        "    return num * num * num"
      ]
    },
    {
      "cell_type": "code",
      "execution_count": null,
      "id": "fe4d32cf",
      "metadata": {
        "id": "fe4d32cf"
      },
      "outputs": [],
      "source": [
        "print(cube(3))"
      ]
    },
    {
      "cell_type": "code",
      "execution_count": null,
      "id": "dd4407a9",
      "metadata": {
        "id": "dd4407a9"
      },
      "outputs": [],
      "source": [
        "result = cube(4)\n",
        "print(result)"
      ]
    }
  ],
  "metadata": {
    "kernelspec": {
      "display_name": "Python 3 (ipykernel)",
      "language": "python",
      "name": "python3"
    },
    "language_info": {
      "codemirror_mode": {
        "name": "ipython",
        "version": 3
      },
      "file_extension": ".py",
      "mimetype": "text/x-python",
      "name": "python",
      "nbconvert_exporter": "python",
      "pygments_lexer": "ipython3",
      "version": "3.8.10"
    },
    "colab": {
      "provenance": [],
      "include_colab_link": true
    }
  },
  "nbformat": 4,
  "nbformat_minor": 5
}