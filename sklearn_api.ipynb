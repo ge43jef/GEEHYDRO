{
  "cells": [
    {
      "cell_type": "markdown",
      "metadata": {
        "id": "view-in-github",
        "colab_type": "text"
      },
      "source": [
        "<a href=\"https://colab.research.google.com/github/ge43jef/GEEHYDRO/blob/block2/sklearn_api.ipynb\" target=\"_parent\"><img src=\"https://colab.research.google.com/assets/colab-badge.svg\" alt=\"Open In Colab\"/></a>"
      ]
    },
    {
      "cell_type": "code",
      "execution_count": null,
      "id": "5f71373f",
      "metadata": {
        "scrolled": true,
        "id": "5f71373f",
        "outputId": "39e0b847-15c3-429c-cedf-ed613468867a"
      },
      "outputs": [
        {
          "name": "stdout",
          "output_type": "stream",
          "text": [
            "Defaulting to user installation because normal site-packages is not writeable\n",
            "Requirement already satisfied: scikit-learn in /home/xinqi/.local/lib/python3.8/site-packages (1.2.2)\n",
            "Requirement already satisfied: numpy>=1.17.3 in /usr/local/lib/python3.8/dist-packages (from scikit-learn) (1.21.5)\n",
            "Requirement already satisfied: joblib>=1.1.1 in /home/xinqi/.local/lib/python3.8/site-packages (from scikit-learn) (1.2.0)\n",
            "Requirement already satisfied: threadpoolctl>=2.0.0 in /usr/local/lib/python3.8/dist-packages (from scikit-learn) (3.1.0)\n",
            "Requirement already satisfied: scipy>=1.3.2 in /usr/local/lib/python3.8/dist-packages (from scikit-learn) (1.9.1)\n",
            "--- Logging error ---\n",
            "Traceback (most recent call last):\n",
            "  File \"/usr/local/lib/python3.8/dist-packages/pip/_internal/utils/logging.py\", line 177, in emit\n",
            "    self.console.print(renderable, overflow=\"ignore\", crop=False, style=style)\n",
            "  File \"/usr/local/lib/python3.8/dist-packages/pip/_vendor/rich/console.py\", line 1673, in print\n",
            "    extend(render(renderable, render_options))\n",
            "  File \"/usr/local/lib/python3.8/dist-packages/pip/_vendor/rich/console.py\", line 1305, in render\n",
            "    for render_output in iter_render:\n",
            "  File \"/usr/local/lib/python3.8/dist-packages/pip/_internal/utils/logging.py\", line 134, in __rich_console__\n",
            "    for line in lines:\n",
            "  File \"/usr/local/lib/python3.8/dist-packages/pip/_vendor/rich/segment.py\", line 249, in split_lines\n",
            "    for segment in segments:\n",
            "  File \"/usr/local/lib/python3.8/dist-packages/pip/_vendor/rich/console.py\", line 1283, in render\n",
            "    renderable = rich_cast(renderable)\n",
            "  File \"/usr/local/lib/python3.8/dist-packages/pip/_vendor/rich/protocol.py\", line 36, in rich_cast\n",
            "    renderable = cast_method()\n",
            "  File \"/usr/local/lib/python3.8/dist-packages/pip/_internal/self_outdated_check.py\", line 130, in __rich__\n",
            "    pip_cmd = get_best_invocation_for_this_pip()\n",
            "  File \"/usr/local/lib/python3.8/dist-packages/pip/_internal/utils/entrypoints.py\", line 58, in get_best_invocation_for_this_pip\n",
            "    if found_executable and os.path.samefile(\n",
            "  File \"/usr/lib/python3.8/genericpath.py\", line 101, in samefile\n",
            "    s2 = os.stat(f2)\n",
            "FileNotFoundError: [Errno 2] No such file or directory: '/usr/bin/pip'\n",
            "Call stack:\n",
            "  File \"/usr/local/bin/pip\", line 8, in <module>\n",
            "    sys.exit(main())\n",
            "  File \"/usr/local/lib/python3.8/dist-packages/pip/_internal/cli/main.py\", line 70, in main\n",
            "    return command.main(cmd_args)\n",
            "  File \"/usr/local/lib/python3.8/dist-packages/pip/_internal/cli/base_command.py\", line 101, in main\n",
            "    return self._main(args)\n",
            "  File \"/usr/local/lib/python3.8/dist-packages/pip/_internal/cli/base_command.py\", line 223, in _main\n",
            "    self.handle_pip_version_check(options)\n",
            "  File \"/usr/local/lib/python3.8/dist-packages/pip/_internal/cli/req_command.py\", line 190, in handle_pip_version_check\n",
            "    pip_self_version_check(session, options)\n",
            "  File \"/usr/local/lib/python3.8/dist-packages/pip/_internal/self_outdated_check.py\", line 236, in pip_self_version_check\n",
            "    logger.warning(\"[present-rich] %s\", upgrade_prompt)\n",
            "  File \"/usr/lib/python3.8/logging/__init__.py\", line 1458, in warning\n",
            "    self._log(WARNING, msg, args, **kwargs)\n",
            "  File \"/usr/lib/python3.8/logging/__init__.py\", line 1589, in _log\n",
            "    self.handle(record)\n",
            "  File \"/usr/lib/python3.8/logging/__init__.py\", line 1599, in handle\n",
            "    self.callHandlers(record)\n",
            "  File \"/usr/lib/python3.8/logging/__init__.py\", line 1661, in callHandlers\n",
            "    hdlr.handle(record)\n",
            "  File \"/usr/lib/python3.8/logging/__init__.py\", line 954, in handle\n",
            "    self.emit(record)\n",
            "  File \"/usr/local/lib/python3.8/dist-packages/pip/_internal/utils/logging.py\", line 179, in emit\n",
            "    self.handleError(record)\n",
            "Message: '[present-rich] %s'\n",
            "Arguments: (UpgradePrompt(old='22.2.2', new='23.0.1'),)\n"
          ]
        }
      ],
      "source": [
        "# install sklearn\n",
        "!pip install scikit-learn"
      ]
    },
    {
      "cell_type": "markdown",
      "id": "bbde032f",
      "metadata": {
        "id": "bbde032f"
      },
      "source": [
        "----\n",
        "## sklearn.linear_model: Linear Models\n",
        "The sklearn.linear_model module implements a variety of linear models.\n",
        "###  Linear classifiers\n",
        "| Function | Useage |\n",
        "| :-: | :-: |\n",
        "| linear_model.LogisticRegression | Logistic Regression (aka logit, MaxEnt) classifier. |\n",
        "| linear_model.LogisticRegressionCV |Logistic Regression CV (aka logit, MaxEnt) classifier. |\n",
        "| linear_model.PassiveAggressiveClassifier | Passive Aggressive Classifier. |\n",
        "| linear_model.Perceptron | Linear perceptron classifier. |\n",
        "| linear_model.RidgeClassifier | Classifier using Ridge regression. |\n",
        "| linear_model.RidgeClassifierCV | Ridge classifier with built-in cross-validation. |\n",
        "| linear_model.SGDClassifier | Linear classifiers (SVM, logistic regression, etc.) with SGD training. |\n",
        "| linear_model.SGDOneClassSVM | Solves linear One-Class SVM using Stochastic Gradient Descent. |\n",
        "###  Classical linear regressors\n",
        "| Function | Useage |\n",
        "| :-: | :-: |\n",
        "| linear_model.LinearRegression | Ordinary least squares Linear Regression. |\n",
        "| linear_model.Ridge | Linear least squares with l2 regularization. |\n",
        "| linear_model.RidgeCV | Ridge regression with built-in cross-validation. |\n",
        "| linear_model.SGDRegressor | Linear model fitted by minimizing a regularized empirical loss with SGD. |\n",
        "\n",
        "**....**"
      ]
    },
    {
      "cell_type": "markdown",
      "id": "5de285c5",
      "metadata": {
        "id": "5de285c5"
      },
      "source": [
        "----\n",
        "## 1. sklearn.linear_model.LinearRegression\n",
        "\n",
        "'''\n",
        "class sklearn.linear_model.LinearRegression(*, fit_intercept=True, copy_X=True, n_jobs=None, positive=False)\n",
        "'''\n",
        "\n",
        "| Parameter | Name | Discription |\n",
        "| :-: | :-: | :-: |\n",
        "|   | **fit_interceptbool, default=True** | Whether to calculate the intercept for this model. If set to False, no intercept will be used in calculations (i.e. data is expected to be centered).\n",
        "|   | **copy_Xbool, default=True** | If True, X will be copied; else, it may be overwritten.\n",
        "|   | **n_jobsint, default=None** | The number of jobs to use for the computation. This will only provide speedup in case of sufficiently large problems, that is if firstly n_targets > 1 and secondly X is sparse or if positive is set to True. None means 1 unless in a joblib.parallel_backend context. -1 means using all processors.\n",
        "|   | **positivebool, default=False** | When set to True, forces the coefficients to be positive. This option is only supported for dense arrays.\n",
        "\n",
        "| Attributes | Name | Discription |\n",
        "| :-: | :-: | :-: |\n",
        "|   | **coef_array of shape (n_features, ) or (n_targets, n_features)** | Estimated coefficients for the linear regression problem. If multiple targets are passed during the fit (y 2D), this is a 2D array of shape (n_targets, n_features), while if only one target is passed, this is a 1D array of length n_features.\n",
        "|   | **rank_:int** | Rank of matrix X. Only available when X is dense.\n",
        "|   | **singular_array of shape (min(X, y),)** | Singular values of X. Only available when X is dense.\n",
        "|   | **intercept_float or array of shape (n_targets,)** | Independent term in the linear model. Set to 0.0 if fit_intercept = False.\n",
        "|   | **n_features_in_int** | Number of features seen during fit.\n",
        "|   | **feature_names_in_ndarray of shape (n_features_in_,)** | Names of features seen during fit. Defined only when X has feature names that are all strings.\n"
      ]
    },
    {
      "cell_type": "markdown",
      "id": "303eb862",
      "metadata": {
        "id": "303eb862"
      },
      "source": [
        "----\n",
        "## 2. Methods\n",
        "\n",
        "| Function | Name | Discription |\n",
        "| :-: | :-: | :-: |\n",
        "|   | **fit(X, y[, sample_weight])** | Fit linear model.\n",
        "|   | **get_params([deep])** | Get parameters for this estimator.\n",
        "|   | **predict(X)** | Predict using the linear model.\n",
        "|   | **score(X, y[, sample_weight])** | Return the coefficient of determination of the prediction."
      ]
    },
    {
      "cell_type": "markdown",
      "id": "f1c243df",
      "metadata": {
        "id": "f1c243df"
      },
      "source": [
        "----\n",
        "## 3. fit(X, y, sample_weight=None)\n",
        "\n",
        "| Parameter | Name | Discription |\n",
        "| :-: | :-: | :-: |\n",
        "|   | **X:{array-like, sparse matrix} of shape (n_samples, n_features)** | Training data.\n",
        "|   | **y:array-like of shape (n_samples,) or (n_samples, n_targets)** | Target values. Will be cast to X’s dtype if necessary.\n",
        "|   | **sample_weightarray-like of shape (n_samples,), default=None** | Individual weights for each sample.\n",
        "\n",
        "| Returns |  |  |\n",
        "| :-: | :-: | :-: |\n",
        "|   | **selfobject** | Fitted Estimator.\n"
      ]
    },
    {
      "cell_type": "code",
      "execution_count": null,
      "id": "e45b0762",
      "metadata": {
        "id": "e45b0762",
        "outputId": "3b112c1c-52ea-461f-a359-59a813d2d7be"
      },
      "outputs": [
        {
          "data": {
            "image/png": "[encoded data removed]",
            "text/plain": [
              "<Figure size 640x480 with 1 Axes>"
            ]
          },
          "metadata": {},
          "output_type": "display_data"
        }
      ],
      "source": [
        "import numpy as np\n",
        "from sklearn.linear_model import LinearRegression\n",
        "import matplotlib.pyplot as plt\n",
        "X = np.array([[1, 1], [1, 2], [2, 2], [2, 3]])\n",
        "# y = 1 * x_0 + 2 * x_1 + 3\n",
        "y = np.dot(X, np.array([1, 2])) + 3\n",
        "reg = LinearRegression().fit(X, y)\n",
        "\n",
        "fig = plt.figure( )\n",
        "gs = fig.add_gridspec(1,1)\n",
        "ax = fig.add_subplot(gs[0 , :])\n",
        "ax.plot( X[: , 0] , label = 'x_0' )\n",
        "ax.plot( X[: , 1] , label = 'x_1')\n",
        "ax.plot( y[: ] , label = 'y')\n",
        "plt.legend()\n",
        "plt.show()"
      ]
    },
    {
      "cell_type": "markdown",
      "id": "b547d8b3",
      "metadata": {
        "id": "b547d8b3"
      },
      "source": [
        "----\n",
        "## 4. score(X, y, sample_weight=None)\n",
        "Return the coefficient of determination of the prediction:coefficient of determination  $R^2$.\n",
        "\n",
        "| Parameter | Name | Discription |\n",
        "| :-: | :-: | :-: |\n",
        "|   | **X array-like of shape (n_samples, n_features)** | Test samples. For some estimators this may be a precomputed kernel matrix or a list of generic objects instead with shape (n_samples, n_samples_fitted), where n_samples_fitted is the number of samples used in the fitting for the estimator.\n",
        "|   | **y array-like of shape (n_samples,) or (n_samples, n_outputs)** | True values for X.\n",
        "|   | **sample_weight array-like of shape (n_samples,), default=None** | Sample weights.\n",
        "\n",
        "| Returns |  |  |\n",
        "| :-: | :-: | :-: |\n",
        "|   | **score float** |  $R^2$of self.predict(X) w.r.t. y.\n"
      ]
    },
    {
      "cell_type": "code",
      "execution_count": null,
      "id": "b09060a5",
      "metadata": {
        "id": "b09060a5",
        "outputId": "e03362ff-d59e-4fad-9490-dddafcbd4dae"
      },
      "outputs": [
        {
          "data": {
            "text/plain": [
              "1.0"
            ]
          },
          "execution_count": 20,
          "metadata": {},
          "output_type": "execute_result"
        }
      ],
      "source": [
        "reg.score(X, y)"
      ]
    },
    {
      "cell_type": "markdown",
      "id": "fb7e6c7a",
      "metadata": {
        "id": "fb7e6c7a"
      },
      "source": [
        "----\n",
        "## 5. predict(X)\n",
        "Predict using the linear model.\n",
        "\n",
        "| Parameter | Name | Discription |\n",
        "| :-: | :-: | :-: |\n",
        "|   | **X array-like or sparse matrix, shape (n_samples, n_features)** | Samples.\n",
        "\n",
        "| Returns |  |  |\n",
        "| :-: | :-: | :-: |\n",
        "|   | **Carray, shape (n_samples,)** | Returns predicted values.\n"
      ]
    },
    {
      "cell_type": "code",
      "execution_count": null,
      "id": "52f5e74b",
      "metadata": {
        "id": "52f5e74b",
        "outputId": "f166a3be-83ec-4501-ddcd-a2fef6fe4457"
      },
      "outputs": [
        {
          "data": {
            "text/plain": [
              "array([16.])"
            ]
          },
          "execution_count": 21,
          "metadata": {},
          "output_type": "execute_result"
        }
      ],
      "source": [
        "reg.predict(np.array([[3, 5]]))"
      ]
    },
    {
      "cell_type": "code",
      "execution_count": null,
      "id": "895664fd",
      "metadata": {
        "id": "895664fd"
      },
      "outputs": [],
      "source": []
    }
  ],
  "metadata": {
    "kernelspec": {
      "display_name": "Python 3 (ipykernel)",
      "language": "python",
      "name": "python3"
    },
    "language_info": {
      "codemirror_mode": {
        "name": "ipython",
        "version": 3
      },
      "file_extension": ".py",
      "mimetype": "text/x-python",
      "name": "python",
      "nbconvert_exporter": "python",
      "pygments_lexer": "ipython3",
      "version": "3.8.10"
    },
    "colab": {
      "provenance": [],
      "include_colab_link": true
    }
  },
  "nbformat": 4,
  "nbformat_minor": 5
}