{
  "cells": [
    {
      "cell_type": "markdown",
      "metadata": {
        "id": "view-in-github",
        "colab_type": "text"
      },
      "source": [
        "<a href=\"https://colab.research.google.com/github/ge43jef/GEEHYDRO/blob/block4/Kmeans.ipynb\" target=\"_parent\"><img src=\"https://colab.research.google.com/assets/colab-badge.svg\" alt=\"Open In Colab\"/></a>"
      ]
    },
    {
      "cell_type": "markdown",
      "id": "21b14e3a",
      "metadata": {
        "id": "21b14e3a"
      },
      "source": [
        "# Clustering : K-means\n",
        "The KMeans algorithm clusters data by trying to separate samples in n groups of equal variance, minimizing a criterion known as the inertia or within-cluster sum-of-squares (see below). This algorithm requires the number of clusters to be specified. It scales well to large numbers of samples and has been used across a large range of application areas in many different fields."
      ]
    },
    {
      "cell_type": "code",
      "execution_count": null,
      "id": "37ac8977",
      "metadata": {
        "id": "37ac8977"
      },
      "outputs": [],
      "source": [
        "from sklearn.cluster import KMeans\n",
        "from sklearn.datasets import make_blobs\n",
        "import matplotlib.pyplot as plt\n",
        "import numpy as np\n",
        "import pandas as pd"
      ]
    },
    {
      "cell_type": "markdown",
      "id": "5d6c29e0",
      "metadata": {
        "id": "5d6c29e0"
      },
      "source": [
        "## K-means with example dataset"
      ]
    },
    {
      "cell_type": "code",
      "execution_count": null,
      "id": "825c0872",
      "metadata": {
        "id": "825c0872"
      },
      "outputs": [],
      "source": [
        "# Generate sample data\n",
        "n_samples = 4000\n",
        "n_components = 4\n",
        "\n",
        "X, y_true = make_blobs(\n",
        "    n_samples=n_samples, centers=n_components, cluster_std=0.60, random_state=0\n",
        ")\n",
        "X = X[:, ::-1]\n",
        "\n",
        "# Fit the model\n",
        "kmeans = KMeans(init=\"random\", n_clusters=6, n_init=6, random_state=0)\n",
        "kmeans.fit(X)\n",
        "\n",
        "\n",
        "plt.figure(1)\n",
        "centers = kmeans.cluster_centers_\n",
        "plt.scatter(X[: , 0], X[: , 1], c=kmeans.labels_)\n",
        "plt.scatter(centers[:, 0], centers[:, 1], c=\"r\")\n",
        "plt.title(\"K-Means\")\n",
        "plt.xticks([])\n",
        "plt.yticks([])\n",
        "plt.show()"
      ]
    },
    {
      "cell_type": "markdown",
      "id": "43ebbfbb",
      "metadata": {
        "id": "43ebbfbb"
      },
      "source": [
        "## K-means with camels dataset\n",
        "In this lab, we will cluster the catchments into several different groups according to location information"
      ]
    },
    {
      "cell_type": "markdown",
      "id": "951994fe",
      "metadata": {
        "id": "951994fe"
      },
      "source": [
        "### Load the data"
      ]
    },
    {
      "cell_type": "code",
      "execution_count": null,
      "id": "ece65456",
      "metadata": {
        "id": "ece65456"
      },
      "outputs": [],
      "source": [
        "with open('camels_topo.txt') as f:\n",
        "    lines = f.readlines()\n",
        "\n",
        "num_of_rows = len(lines)\n",
        "\n",
        "var = np.zeros((num_of_rows - 1 , 4)) # save first fourth variables\n",
        "                                      # in the files\n",
        "\n",
        "for num in range(1 , num_of_rows): # we don't need the first row\n",
        "    xx = lines[num] # variable to save each line of lines\n",
        "    l = []\n",
        "    for t in xx.split(';'):\n",
        "        try:\n",
        "            l.append(float(t))\n",
        "        except ValueError:\n",
        "            pass\n",
        "    var[num - 1 , :] = l[0 : 4]\n",
        "\n",
        "\n",
        "fig, ax = plt.subplots(1, 1)\n",
        "plt.subplots_adjust(wspace=0.4, hspace=0.4)\n",
        "ax.scatter(var[: , 2] , var[: , 1] , c=var[: , 3], cmap=plt.cm.coolwarm, s=20, edgecolors=\"k\")\n",
        "ax.set_title(\"catchments with elevation(m)\")"
      ]
    },
    {
      "cell_type": "markdown",
      "id": "50ac6eae",
      "metadata": {
        "id": "50ac6eae"
      },
      "source": [
        "### Fit the model"
      ]
    },
    {
      "cell_type": "code",
      "execution_count": null,
      "id": "eb8d8eca",
      "metadata": {
        "id": "eb8d8eca"
      },
      "outputs": [],
      "source": [
        "kmeans = KMeans(init=\"random\", n_clusters=6, n_init=6, random_state=0)\n",
        "kmeans.fit(var[: , 1 : 3])\n",
        "\n",
        "# Plot init seeds along side sample data\n",
        "plt.figure(1)\n",
        "centers = kmeans.cluster_centers_\n",
        "plt.scatter(var[: , 2], var[: , 1], c=kmeans.labels_)\n",
        "plt.scatter(centers[:, 1], centers[:, 0], c=\"r\")\n",
        "plt.title(\"K-Means\")\n",
        "plt.xticks([])\n",
        "plt.yticks([])\n",
        "plt.show()"
      ]
    },
    {
      "cell_type": "code",
      "execution_count": null,
      "id": "7cacfa70",
      "metadata": {
        "id": "7cacfa70"
      },
      "outputs": [],
      "source": []
    }
  ],
  "metadata": {
    "kernelspec": {
      "display_name": "Python 3 (ipykernel)",
      "language": "python",
      "name": "python3"
    },
    "language_info": {
      "codemirror_mode": {
        "name": "ipython",
        "version": 3
      },
      "file_extension": ".py",
      "mimetype": "text/x-python",
      "name": "python",
      "nbconvert_exporter": "python",
      "pygments_lexer": "ipython3",
      "version": "3.8.13"
    },
    "colab": {
      "provenance": [],
      "include_colab_link": true
    }
  },
  "nbformat": 4,
  "nbformat_minor": 5
}